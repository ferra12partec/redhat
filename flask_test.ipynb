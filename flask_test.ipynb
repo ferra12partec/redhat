{
 "cells": [
  {
   "cell_type": "code",
   "execution_count": null,
   "id": "1350a1cf-43e3-4718-b554-5293a9d38fe9",
   "metadata": {},
   "outputs": [],
   "source": [
    "import requests\n",
    "import json"
   ]
  },
  {
   "cell_type": "code",
   "execution_count": null,
   "id": "681f73fc-0638-4469-bb77-4175dd04cfd7",
   "metadata": {},
   "outputs": [
    {
     "data": {
      "text/plain": [
       "{'sent_1': {'MONEY': '10 milioni',\n",
       "  'ORG': 'Adidas',\n",
       "  'SPONSOR': 'sponsor maglia',\n",
       "  'TEAM': 'Milan'},\n",
       " 'sent_2': {'MONEY': '15 milioni di euro',\n",
       "  'PER': 'Puma',\n",
       "  'SPONSOR': 'sponsor tecnico',\n",
       "  'TEAM': 'Juventus'}}"
      ]
     },
     "execution_count": 18,
     "metadata": {},
     "output_type": "execute_result"
    }
   ],
   "source": [
    "headers = {\n",
    "    # Already added when you pass json=\n",
    "    # 'Content-Type': 'application/json',\n",
    "}\n",
    "\n",
    "json_data = {\"string\":\"Il Milan ha un contratto da 10 milioni con Adidas per lo sponsor maglia. La Juventus invece ha firmato con Puma un contratto da 15 milioni di euro per lo sponsor tecnico.\"}\n",
    "\n",
    "response = requests.post('http://127.0.0.1:5000/status', headers=headers, json=json_data)\n",
    "response.json()"
   ]
  },
  {
   "cell_type": "code",
   "execution_count": null,
   "id": "b690bcc6-6052-426f-afa0-8ab46812e07a",
   "metadata": {},
   "outputs": [],
   "source": []
  }
 ],
 "metadata": {
  "kernelspec": {
   "display_name": "Python 3.9",
   "language": "python",
   "name": "python3"
  },
  "language_info": {
   "codemirror_mode": {
    "name": "ipython",
    "version": 3
   },
   "file_extension": ".py",
   "mimetype": "text/x-python",
   "name": "python",
   "nbconvert_exporter": "python",
   "pygments_lexer": "ipython3",
   "version": "3.9.16"
  }
 },
 "nbformat": 4,
 "nbformat_minor": 5
}
