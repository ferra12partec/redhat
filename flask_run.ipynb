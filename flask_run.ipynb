{
 "cells": [
  {
   "cell_type": "code",
   "execution_count": null,
   "id": "cde41777-0da1-465f-bb8b-754c3f834a4f",
   "metadata": {},
   "outputs": [
    {
     "name": "stdout",
     "output_type": "stream",
     "text": [
      "{}\n",
      " * Serving Flask app 'app.py'\n",
      " * Debug mode: off\n",
      "\u001b[31m\u001b[1mWARNING: This is a development server. Do not use it in a production deployment. Use a production WSGI server instead.\u001b[0m\n",
      " * Running on http://127.0.0.1:5000\n",
      "\u001b[33mPress CTRL+C to quit\u001b[0m\n",
      "127.0.0.1 - - [29/Nov/2023 08:48:49] \"POST /predictions HTTP/1.1\" 200 -\n",
      "127.0.0.1 - - [29/Nov/2023 08:49:04] \"POST /predictions HTTP/1.1\" 200 -\n",
      "127.0.0.1 - - [29/Nov/2023 08:49:06] \"POST /predictions HTTP/1.1\" 200 -\n",
      "127.0.0.1 - - [29/Nov/2023 08:49:09] \"POST /predictions HTTP/1.1\" 200 -\n",
      "127.0.0.1 - - [29/Nov/2023 08:54:35] \"POST /predictions HTTP/1.1\" 200 -\n"
     ]
    }
   ],
   "source": [
    "!FLASK_ENV=development FLASK_APP=app.py flask run"
   ]
  },
  {
   "cell_type": "code",
   "execution_count": null,
   "id": "8e21ff35-b818-4840-ba17-2f101c1648e0",
   "metadata": {},
   "outputs": [],
   "source": []
  }
 ],
 "metadata": {
  "kernelspec": {
   "display_name": "Python 3.9",
   "language": "python",
   "name": "python3"
  },
  "language_info": {
   "codemirror_mode": {
    "name": "ipython",
    "version": 3
   },
   "file_extension": ".py",
   "mimetype": "text/x-python",
   "name": "python",
   "nbconvert_exporter": "python",
   "pygments_lexer": "ipython3",
   "version": "3.9.16"
  }
 },
 "nbformat": 4,
 "nbformat_minor": 5
}
