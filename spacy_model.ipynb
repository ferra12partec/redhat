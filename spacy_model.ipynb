{
 "cells": [
  {
   "cell_type": "code",
   "execution_count": 4,
   "id": "f2ac859f-c40c-4b7f-8260-35b78bfb3d11",
   "metadata": {},
   "outputs": [
    {
     "name": "stdout",
     "output_type": "stream",
     "text": [
      "Requirement already satisfied: spacy in /opt/app-root/lib/python3.9/site-packages (3.7.2)\n",
      "Requirement already satisfied: pandas in /opt/app-root/lib/python3.9/site-packages (2.1.3)\n",
      "Requirement already satisfied: openpyxl in /opt/app-root/lib/python3.9/site-packages (3.1.2)\n",
      "Requirement already satisfied: flask in /opt/app-root/lib/python3.9/site-packages (3.0.0)\n",
      "Requirement already satisfied: thinc<8.3.0,>=8.1.8 in /opt/app-root/lib/python3.9/site-packages (from spacy) (8.2.1)\n",
      "Requirement already satisfied: pydantic!=1.8,!=1.8.1,<3.0.0,>=1.7.4 in /opt/app-root/lib/python3.9/site-packages (from spacy) (2.5.2)\n",
      "Requirement already satisfied: smart-open<7.0.0,>=5.2.1 in /opt/app-root/lib/python3.9/site-packages (from spacy) (6.4.0)\n",
      "Requirement already satisfied: packaging>=20.0 in /opt/app-root/lib/python3.9/site-packages (from spacy) (23.1)\n",
      "Requirement already satisfied: cymem<2.1.0,>=2.0.2 in /opt/app-root/lib/python3.9/site-packages (from spacy) (2.0.8)\n",
      "Requirement already satisfied: typer<0.10.0,>=0.3.0 in /opt/app-root/lib/python3.9/site-packages (from spacy) (0.9.0)\n",
      "Requirement already satisfied: spacy-legacy<3.1.0,>=3.0.11 in /opt/app-root/lib/python3.9/site-packages (from spacy) (3.0.12)\n",
      "Requirement already satisfied: langcodes<4.0.0,>=3.2.0 in /opt/app-root/lib/python3.9/site-packages (from spacy) (3.3.0)\n",
      "Requirement already satisfied: wasabi<1.2.0,>=0.9.1 in /opt/app-root/lib/python3.9/site-packages (from spacy) (1.1.2)\n",
      "Requirement already satisfied: spacy-loggers<2.0.0,>=1.0.0 in /opt/app-root/lib/python3.9/site-packages (from spacy) (1.0.5)\n",
      "Requirement already satisfied: murmurhash<1.1.0,>=0.28.0 in /opt/app-root/lib/python3.9/site-packages (from spacy) (1.0.10)\n",
      "Requirement already satisfied: catalogue<2.1.0,>=2.0.6 in /opt/app-root/lib/python3.9/site-packages (from spacy) (2.0.10)\n",
      "Requirement already satisfied: tqdm<5.0.0,>=4.38.0 in /opt/app-root/lib/python3.9/site-packages (from spacy) (4.66.1)\n",
      "Requirement already satisfied: numpy>=1.19.0 in /opt/app-root/lib/python3.9/site-packages (from spacy) (1.26.2)\n",
      "Requirement already satisfied: weasel<0.4.0,>=0.1.0 in /opt/app-root/lib/python3.9/site-packages (from spacy) (0.3.4)\n",
      "Requirement already satisfied: jinja2 in /opt/app-root/lib/python3.9/site-packages (from spacy) (3.1.2)\n",
      "Requirement already satisfied: requests<3.0.0,>=2.13.0 in /opt/app-root/lib/python3.9/site-packages (from spacy) (2.31.0)\n",
      "Requirement already satisfied: srsly<3.0.0,>=2.4.3 in /opt/app-root/lib/python3.9/site-packages (from spacy) (2.4.8)\n",
      "Requirement already satisfied: setuptools in /opt/app-root/lib/python3.9/site-packages (from spacy) (53.0.0)\n",
      "Requirement already satisfied: preshed<3.1.0,>=3.0.2 in /opt/app-root/lib/python3.9/site-packages (from spacy) (3.0.9)\n",
      "Requirement already satisfied: tzdata>=2022.1 in /opt/app-root/lib/python3.9/site-packages (from pandas) (2023.3)\n",
      "Requirement already satisfied: python-dateutil>=2.8.2 in /opt/app-root/lib/python3.9/site-packages (from pandas) (2.8.2)\n",
      "Requirement already satisfied: pytz>=2020.1 in /opt/app-root/lib/python3.9/site-packages (from pandas) (2023.3.post1)\n",
      "Requirement already satisfied: et-xmlfile in /opt/app-root/lib/python3.9/site-packages (from openpyxl) (1.1.0)\n",
      "Requirement already satisfied: importlib-metadata>=3.6.0 in /opt/app-root/lib/python3.9/site-packages (from flask) (6.8.0)\n",
      "Requirement already satisfied: blinker>=1.6.2 in /opt/app-root/lib/python3.9/site-packages (from flask) (1.7.0)\n",
      "Requirement already satisfied: click>=8.1.3 in /opt/app-root/lib/python3.9/site-packages (from flask) (8.1.7)\n",
      "Requirement already satisfied: Werkzeug>=3.0.0 in /opt/app-root/lib/python3.9/site-packages (from flask) (3.0.1)\n",
      "Requirement already satisfied: itsdangerous>=2.1.2 in /opt/app-root/lib/python3.9/site-packages (from flask) (2.1.2)\n",
      "Requirement already satisfied: zipp>=0.5 in /opt/app-root/lib/python3.9/site-packages (from importlib-metadata>=3.6.0->flask) (3.16.2)\n",
      "Requirement already satisfied: MarkupSafe>=2.0 in /opt/app-root/lib/python3.9/site-packages (from jinja2->spacy) (2.1.3)\n",
      "Requirement already satisfied: typing-extensions>=4.6.1 in /opt/app-root/lib/python3.9/site-packages (from pydantic!=1.8,!=1.8.1,<3.0.0,>=1.7.4->spacy) (4.7.1)\n",
      "Requirement already satisfied: pydantic-core==2.14.5 in /opt/app-root/lib/python3.9/site-packages (from pydantic!=1.8,!=1.8.1,<3.0.0,>=1.7.4->spacy) (2.14.5)\n",
      "Requirement already satisfied: annotated-types>=0.4.0 in /opt/app-root/lib/python3.9/site-packages (from pydantic!=1.8,!=1.8.1,<3.0.0,>=1.7.4->spacy) (0.6.0)\n",
      "Requirement already satisfied: six>=1.5 in /opt/app-root/lib/python3.9/site-packages (from python-dateutil>=2.8.2->pandas) (1.16.0)\n",
      "Requirement already satisfied: idna<4,>=2.5 in /opt/app-root/lib/python3.9/site-packages (from requests<3.0.0,>=2.13.0->spacy) (3.4)\n",
      "Requirement already satisfied: certifi>=2017.4.17 in /opt/app-root/lib/python3.9/site-packages (from requests<3.0.0,>=2.13.0->spacy) (2023.7.22)\n",
      "Requirement already satisfied: charset-normalizer<4,>=2 in /opt/app-root/lib/python3.9/site-packages (from requests<3.0.0,>=2.13.0->spacy) (3.2.0)\n",
      "Requirement already satisfied: urllib3<3,>=1.21.1 in /opt/app-root/lib/python3.9/site-packages (from requests<3.0.0,>=2.13.0->spacy) (2.0.4)\n",
      "Requirement already satisfied: blis<0.8.0,>=0.7.8 in /opt/app-root/lib/python3.9/site-packages (from thinc<8.3.0,>=8.1.8->spacy) (0.7.11)\n",
      "Requirement already satisfied: confection<1.0.0,>=0.0.1 in /opt/app-root/lib/python3.9/site-packages (from thinc<8.3.0,>=8.1.8->spacy) (0.1.4)\n",
      "Requirement already satisfied: cloudpathlib<0.17.0,>=0.7.0 in /opt/app-root/lib/python3.9/site-packages (from weasel<0.4.0,>=0.1.0->spacy) (0.16.0)\n",
      "\n",
      "\u001b[1m[\u001b[0m\u001b[34;49mnotice\u001b[0m\u001b[1;39;49m]\u001b[0m\u001b[39;49m A new release of pip available: \u001b[0m\u001b[31;49m22.2.2\u001b[0m\u001b[39;49m -> \u001b[0m\u001b[32;49m23.3.1\u001b[0m\n",
      "\u001b[1m[\u001b[0m\u001b[34;49mnotice\u001b[0m\u001b[1;39;49m]\u001b[0m\u001b[39;49m To update, run: \u001b[0m\u001b[32;49mpip install --upgrade pip\u001b[0m\n"
     ]
    }
   ],
   "source": [
    "!pip install spacy pandas openpyxl flask"
   ]
  },
  {
   "cell_type": "code",
   "execution_count": 5,
   "id": "06efd15a-e5bd-4df2-8859-d6218460f058",
   "metadata": {},
   "outputs": [
    {
     "name": "stdout",
     "output_type": "stream",
     "text": [
      "Collecting it-core-news-lg==3.7.0\n",
      "  Downloading https://github.com/explosion/spacy-models/releases/download/it_core_news_lg-3.7.0/it_core_news_lg-3.7.0-py3-none-any.whl (567.9 MB)\n",
      "\u001b[2K     \u001b[90m━━━━━━━━━━━━━━━━━━━━━━━━━━━━━━━━━━━━━\u001b[0m \u001b[32m567.9/567.9 MB\u001b[0m \u001b[31m230.8 MB/s\u001b[0m eta \u001b[36m0:00:00\u001b[0m00:01\u001b[0m00:01\u001b[0m\n",
      "\u001b[?25hRequirement already satisfied: spacy<3.8.0,>=3.7.0 in /opt/app-root/lib/python3.9/site-packages (from it-core-news-lg==3.7.0) (3.7.2)\n",
      "Requirement already satisfied: requests<3.0.0,>=2.13.0 in /opt/app-root/lib/python3.9/site-packages (from spacy<3.8.0,>=3.7.0->it-core-news-lg==3.7.0) (2.31.0)\n",
      "Requirement already satisfied: packaging>=20.0 in /opt/app-root/lib/python3.9/site-packages (from spacy<3.8.0,>=3.7.0->it-core-news-lg==3.7.0) (23.1)\n",
      "Requirement already satisfied: numpy>=1.19.0 in /opt/app-root/lib/python3.9/site-packages (from spacy<3.8.0,>=3.7.0->it-core-news-lg==3.7.0) (1.26.2)\n",
      "Requirement already satisfied: srsly<3.0.0,>=2.4.3 in /opt/app-root/lib/python3.9/site-packages (from spacy<3.8.0,>=3.7.0->it-core-news-lg==3.7.0) (2.4.8)\n",
      "Requirement already satisfied: pydantic!=1.8,!=1.8.1,<3.0.0,>=1.7.4 in /opt/app-root/lib/python3.9/site-packages (from spacy<3.8.0,>=3.7.0->it-core-news-lg==3.7.0) (2.5.2)\n",
      "Requirement already satisfied: typer<0.10.0,>=0.3.0 in /opt/app-root/lib/python3.9/site-packages (from spacy<3.8.0,>=3.7.0->it-core-news-lg==3.7.0) (0.9.0)\n",
      "Requirement already satisfied: smart-open<7.0.0,>=5.2.1 in /opt/app-root/lib/python3.9/site-packages (from spacy<3.8.0,>=3.7.0->it-core-news-lg==3.7.0) (6.4.0)\n",
      "Requirement already satisfied: spacy-loggers<2.0.0,>=1.0.0 in /opt/app-root/lib/python3.9/site-packages (from spacy<3.8.0,>=3.7.0->it-core-news-lg==3.7.0) (1.0.5)\n",
      "Requirement already satisfied: tqdm<5.0.0,>=4.38.0 in /opt/app-root/lib/python3.9/site-packages (from spacy<3.8.0,>=3.7.0->it-core-news-lg==3.7.0) (4.66.1)\n",
      "Requirement already satisfied: cymem<2.1.0,>=2.0.2 in /opt/app-root/lib/python3.9/site-packages (from spacy<3.8.0,>=3.7.0->it-core-news-lg==3.7.0) (2.0.8)\n",
      "Requirement already satisfied: thinc<8.3.0,>=8.1.8 in /opt/app-root/lib/python3.9/site-packages (from spacy<3.8.0,>=3.7.0->it-core-news-lg==3.7.0) (8.2.1)\n",
      "Requirement already satisfied: weasel<0.4.0,>=0.1.0 in /opt/app-root/lib/python3.9/site-packages (from spacy<3.8.0,>=3.7.0->it-core-news-lg==3.7.0) (0.3.4)\n",
      "Requirement already satisfied: jinja2 in /opt/app-root/lib/python3.9/site-packages (from spacy<3.8.0,>=3.7.0->it-core-news-lg==3.7.0) (3.1.2)\n",
      "Requirement already satisfied: preshed<3.1.0,>=3.0.2 in /opt/app-root/lib/python3.9/site-packages (from spacy<3.8.0,>=3.7.0->it-core-news-lg==3.7.0) (3.0.9)\n",
      "Requirement already satisfied: setuptools in /opt/app-root/lib/python3.9/site-packages (from spacy<3.8.0,>=3.7.0->it-core-news-lg==3.7.0) (53.0.0)\n",
      "Requirement already satisfied: catalogue<2.1.0,>=2.0.6 in /opt/app-root/lib/python3.9/site-packages (from spacy<3.8.0,>=3.7.0->it-core-news-lg==3.7.0) (2.0.10)\n",
      "Requirement already satisfied: murmurhash<1.1.0,>=0.28.0 in /opt/app-root/lib/python3.9/site-packages (from spacy<3.8.0,>=3.7.0->it-core-news-lg==3.7.0) (1.0.10)\n",
      "Requirement already satisfied: spacy-legacy<3.1.0,>=3.0.11 in /opt/app-root/lib/python3.9/site-packages (from spacy<3.8.0,>=3.7.0->it-core-news-lg==3.7.0) (3.0.12)\n",
      "Requirement already satisfied: wasabi<1.2.0,>=0.9.1 in /opt/app-root/lib/python3.9/site-packages (from spacy<3.8.0,>=3.7.0->it-core-news-lg==3.7.0) (1.1.2)\n",
      "Requirement already satisfied: langcodes<4.0.0,>=3.2.0 in /opt/app-root/lib/python3.9/site-packages (from spacy<3.8.0,>=3.7.0->it-core-news-lg==3.7.0) (3.3.0)\n",
      "Requirement already satisfied: annotated-types>=0.4.0 in /opt/app-root/lib/python3.9/site-packages (from pydantic!=1.8,!=1.8.1,<3.0.0,>=1.7.4->spacy<3.8.0,>=3.7.0->it-core-news-lg==3.7.0) (0.6.0)\n",
      "Requirement already satisfied: typing-extensions>=4.6.1 in /opt/app-root/lib/python3.9/site-packages (from pydantic!=1.8,!=1.8.1,<3.0.0,>=1.7.4->spacy<3.8.0,>=3.7.0->it-core-news-lg==3.7.0) (4.7.1)\n",
      "Requirement already satisfied: pydantic-core==2.14.5 in /opt/app-root/lib/python3.9/site-packages (from pydantic!=1.8,!=1.8.1,<3.0.0,>=1.7.4->spacy<3.8.0,>=3.7.0->it-core-news-lg==3.7.0) (2.14.5)\n",
      "Requirement already satisfied: charset-normalizer<4,>=2 in /opt/app-root/lib/python3.9/site-packages (from requests<3.0.0,>=2.13.0->spacy<3.8.0,>=3.7.0->it-core-news-lg==3.7.0) (3.2.0)\n",
      "Requirement already satisfied: idna<4,>=2.5 in /opt/app-root/lib/python3.9/site-packages (from requests<3.0.0,>=2.13.0->spacy<3.8.0,>=3.7.0->it-core-news-lg==3.7.0) (3.4)\n",
      "Requirement already satisfied: urllib3<3,>=1.21.1 in /opt/app-root/lib/python3.9/site-packages (from requests<3.0.0,>=2.13.0->spacy<3.8.0,>=3.7.0->it-core-news-lg==3.7.0) (2.0.4)\n",
      "Requirement already satisfied: certifi>=2017.4.17 in /opt/app-root/lib/python3.9/site-packages (from requests<3.0.0,>=2.13.0->spacy<3.8.0,>=3.7.0->it-core-news-lg==3.7.0) (2023.7.22)\n",
      "Requirement already satisfied: confection<1.0.0,>=0.0.1 in /opt/app-root/lib/python3.9/site-packages (from thinc<8.3.0,>=8.1.8->spacy<3.8.0,>=3.7.0->it-core-news-lg==3.7.0) (0.1.4)\n",
      "Requirement already satisfied: blis<0.8.0,>=0.7.8 in /opt/app-root/lib/python3.9/site-packages (from thinc<8.3.0,>=8.1.8->spacy<3.8.0,>=3.7.0->it-core-news-lg==3.7.0) (0.7.11)\n",
      "Requirement already satisfied: click<9.0.0,>=7.1.1 in /opt/app-root/lib/python3.9/site-packages (from typer<0.10.0,>=0.3.0->spacy<3.8.0,>=3.7.0->it-core-news-lg==3.7.0) (8.1.7)\n",
      "Requirement already satisfied: cloudpathlib<0.17.0,>=0.7.0 in /opt/app-root/lib/python3.9/site-packages (from weasel<0.4.0,>=0.1.0->spacy<3.8.0,>=3.7.0->it-core-news-lg==3.7.0) (0.16.0)\n",
      "Requirement already satisfied: MarkupSafe>=2.0 in /opt/app-root/lib/python3.9/site-packages (from jinja2->spacy<3.8.0,>=3.7.0->it-core-news-lg==3.7.0) (2.1.3)\n",
      "\n",
      "\u001b[1m[\u001b[0m\u001b[34;49mnotice\u001b[0m\u001b[1;39;49m]\u001b[0m\u001b[39;49m A new release of pip available: \u001b[0m\u001b[31;49m22.2.2\u001b[0m\u001b[39;49m -> \u001b[0m\u001b[32;49m23.3.1\u001b[0m\n",
      "\u001b[1m[\u001b[0m\u001b[34;49mnotice\u001b[0m\u001b[1;39;49m]\u001b[0m\u001b[39;49m To update, run: \u001b[0m\u001b[32;49mpip install --upgrade pip\u001b[0m\n",
      "\u001b[38;5;2m✔ Download and installation successful\u001b[0m\n",
      "You can now load the package via spacy.load('it_core_news_lg')\n"
     ]
    }
   ],
   "source": [
    "!spacy download it_core_news_lg"
   ]
  },
  {
   "cell_type": "code",
   "execution_count": 6,
   "id": "b11b1e8a-87cd-4858-a79e-22244c364cf8",
   "metadata": {},
   "outputs": [],
   "source": [
    "import spacy\n",
    "import pandas as pd\n",
    "import re\n",
    "from spacy_entityruler import *"
   ]
  },
  {
   "cell_type": "code",
   "execution_count": 7,
   "id": "7c44eb27-0b27-4f56-ad46-c44d5c6931f4",
   "metadata": {},
   "outputs": [],
   "source": [
    "nlp = spacy.load('it_core_news_lg')"
   ]
  },
  {
   "cell_type": "code",
   "execution_count": 8,
   "id": "4b7081eb-c0c7-4a00-bee4-8a9265c4b3fa",
   "metadata": {},
   "outputs": [],
   "source": [
    "df = pd.read_excel('data//teams_data.xlsx')"
   ]
  },
  {
   "cell_type": "code",
   "execution_count": 14,
   "id": "4d4e8ff5-9b73-419a-8223-7755002cfd51",
   "metadata": {},
   "outputs": [],
   "source": [
    "team_names = df.name"
   ]
  },
  {
   "cell_type": "code",
   "execution_count": 9,
   "id": "0b647780-0f2f-47bf-8f3e-1ae839df018f",
   "metadata": {},
   "outputs": [
    {
     "ename": "NameError",
     "evalue": "name 'team_names' is not defined",
     "output_type": "error",
     "traceback": [
      "\u001b[0;31m---------------------------------------------------------------------------\u001b[0m",
      "\u001b[0;31mNameError\u001b[0m                                 Traceback (most recent call last)",
      "Cell \u001b[0;32mIn[9], line 1\u001b[0m\n\u001b[0;32m----> 1\u001b[0m add_labeled_entity_ruler_to_spacy_model(nlp, adjust_team_names_for_entity_ruler(\u001b[43mteam_names\u001b[49m), \u001b[38;5;124m'\u001b[39m\u001b[38;5;124mTEAM\u001b[39m\u001b[38;5;124m'\u001b[39m)\n",
      "\u001b[0;31mNameError\u001b[0m: name 'team_names' is not defined"
     ]
    }
   ],
   "source": [
    "add_labeled_entity_ruler_to_spacy_model(nlp, adjust_team_names_for_entity_ruler(team_names), 'TEAM')"
   ]
  },
  {
   "cell_type": "code",
   "execution_count": 10,
   "id": "493ddfd6-70e2-4ab3-8918-0e90a56ba359",
   "metadata": {},
   "outputs": [],
   "source": [
    "with open('data/spacy_text.txt', 'r', encoding=\"utf8\") as file:\n",
    "    sample_text = file.read()\n",
    "sample_text = re.sub(r'\\n', ' ', sample_text)\n",
    "sample_text = re.sub(r'\\t', ' ', sample_text)"
   ]
  },
  {
   "cell_type": "code",
   "execution_count": 17,
   "id": "3ec77e09-1f5b-4e5a-a6b5-fc66d258fc78",
   "metadata": {},
   "outputs": [],
   "source": [
    "entity_ruler = nlp.get_pipe('entity_ruler')"
   ]
  },
  {
   "cell_type": "code",
   "execution_count": 18,
   "id": "16b35024-2fea-4f91-a176-ace860e4713d",
   "metadata": {},
   "outputs": [],
   "source": [
    "pattern_money = [  \n",
    "    {'label': 'MONEY', 'pattern': [{'IS_DIGIT':1},{'lemma':'milione'}]}, \n",
    "    {'label': 'MONEY', 'pattern': [{'IS_DIGIT':1},{'lemma':'milione'},{'POS':'ADP'},{'lower':'euro'}]},\n",
    "    {'label': 'MONEY', 'pattern': [{'IS_DIGIT':1},{'lemma':'milione'},{'POS':'ADP'},{'lower':'dollari'}]},\n",
    "    {'label': 'MONEY', 'pattern': [{'IS_DIGIT':1},{'lemma':'milione'},{'ORTH':'€'}]},\n",
    "    {'label': 'MONEY', 'pattern': [{'IS_DIGIT':1},{'lemma':'milione'},{'ORTH':'$'}]},\n",
    "    {'label': 'MONEY', 'pattern': [{'IS_DIGIT':1},{'lemma':'milione'},{'POS':'ADP'},{'lower':'euro'}]},\n",
    "    {'label': 'MONEY', 'pattern': [{'IS_DIGIT':1},{'lemma':'milione'},{'POS':'ADP'},{'lower':'dollari'}]},\n",
    "    {'label': 'MONEY', 'pattern': [{'IS_DIGIT':1},{'lemma':'mila'},{'ORTH':'€'}]},\n",
    "    {'label': 'MONEY', 'pattern': [{'IS_DIGIT':1},{'lemma':'mila'},{'ORTH':'$'}]},\n",
    "    {'label': 'MONEY', 'pattern': [{'IS_DIGIT':1},{'lower':'mln'}]},\n",
    "    {'label': 'MONEY', 'pattern': [{'IS_DIGIT':1},{'lemma':'mln'},{'ORTH':'€'}]},\n",
    "    {'label': 'MONEY', 'pattern': [{'IS_DIGIT':1},{'lemma':'mln'},{'ORTH':'$'}]}\n",
    "]\n",
    "\n",
    "pattern_sponsor = [\n",
    "    {'label': 'SPONSOR', 'pattern': [{'LOWER': 'sponsor'},{'POS': 'NOUN'}]},\n",
    "    {'label': 'SPONSOR', 'pattern': [{'POS': 'NOUN'},{'LOWER': 'sponsor'}]},\n",
    "    {'label': 'SPONSOR', 'pattern': [{'LOWER': 'sponsor'},{'POS': 'ADJ'}]},\n",
    "    {'label': 'SPONSOR', 'pattern': [{'LOWER': 'sponsorizzazione'}]}\n",
    "]\n",
    "\n",
    "entity_ruler.add_patterns(pattern_money)\n",
    "entity_ruler.add_patterns(pattern_sponsor)"
   ]
  },
  {
   "cell_type": "code",
   "execution_count": 19,
   "id": "c0b5c1c2-cda9-4ca6-96ed-a793de97a44c",
   "metadata": {},
   "outputs": [],
   "source": [
    "doc = nlp(sample_text)"
   ]
  },
  {
   "cell_type": "code",
   "execution_count": 20,
   "id": "0e0e6a6b-de6a-40e1-b609-84b870da9a28",
   "metadata": {},
   "outputs": [
    {
     "name": "stdout",
     "output_type": "stream",
     "text": [
      "Andando a fondo con le cifre incassate dal Milan tramite gli sponsor di maglia, possiamo partire dai circa 30 milioni di euro messi in cassa dal club rossonero tramite Puma, lo sponsor tecnico della squadra.\n",
      "Milan TEAM\n",
      "30 milioni di euro MONEY\n",
      "Puma MISC\n",
      "sponsor tecnico SPONSOR\n",
      "mentre quello sulla spalla, BitMEX, porta nelle casse rossonere circa 5 milioni di euro, per un totale di 72 milioni di euro (circa) annuali.  Puma (Sponsor Tecnico) - 30 milioni di euro Emirates (Main Sponsor) - 30 milioni di euro WeFox (Sponsor retr maglia) - 7 milioni di euro BitMEX (Sponsor spalla) - 5 milioni di euro  Supera i 30 milioni il valore della maglia del Milan dal punto di vista commerciale.\n",
      "BitMEX LOC\n",
      "5 milioni di euro MONEY\n",
      "72 milioni di euro MONEY\n",
      "Puma MISC\n",
      "Sponsor Tecnico SPONSOR\n",
      "30 milioni di euro MONEY\n",
      "Emirates ORG\n",
      "Main Sponsor MISC\n",
      "30 milioni di euro MONEY\n",
      "WeFox MISC\n",
      "Sponsor retr SPONSOR\n",
      "7 milioni di euro MONEY\n",
      "BitMEX MISC\n",
      "Sponsor spalla SPONSOR\n",
      "5 milioni di euro MONEY\n",
      "Supera LOC\n",
      "30 milioni MONEY\n",
      "Milan TEAM\n",
      "strategie diverse  Mentre il contratto con la Nike è valido fino al 2031, con un guadagno stimato di 30 milioni a stagione, il nuovo main sponsor annunciato dall'Inter altro non è che la piattaforma di streaming Paramount+, la cui firma conferma un investimento di 20 milioni all'anno fino al 2026.\n",
      "Nike ORG\n",
      "30 milioni MONEY\n",
      "main sponsor SPONSOR\n",
      "Inter ORG\n",
      "Paramount+ MISC\n",
      "20 milioni MONEY\n",
      "Si resta in ambito tech anche con DigitalBits (sleeve sponsor) e Lenovo (back sponsor).  4) Sassuolo - 18 milioni di euro Caso simile a quello della Fiorentina, visto che i neroverdi presentano sulla propria maglietta una sola sponsorizzazione, quella con Mapei, che dà il nome anche allo stadio.  \n",
      "DigitalBits MISC\n",
      "sleeve sponsor SPONSOR\n",
      "Lenovo ORG\n",
      "Sassuolo TEAM\n",
      "18 milioni di euro MONEY\n",
      "Caso PER\n",
      "Fiorentina TEAM\n",
      "Mapei PER\n",
      "Ad eccezioni di Tiscali, che compare sul petto insieme alla Regione Sardegna, i rossoblù contano infatti sul sostegno di grandi aziende locali come Arborea (latte sardo) sulla manica e la birra Ichnusa dietro.  11) Torino - 4 milioni euro Il Toro ha su Suzuki e Beretta come sponsor, in più ha allargato la partnership con il Gruppo Beretta ospitando nello slot di sleeve sponsor il marchio N38 di Wüber.\n",
      "Tiscali ORG\n",
      "Regione Sardegna LOC\n",
      "Arborea LOC\n",
      "Ichnusa LOC\n",
      "Torino TEAM\n",
      "4 milioni MONEY\n",
      "Il Toro MISC\n",
      "Suzuki ORG\n",
      "Beretta PER\n",
      "Gruppo Beretta ORG\n",
      "sleeve sponsor SPONSOR\n",
      "N38 LOC\n",
      "Wüber LOC\n",
      "17) Genoa - 1 milione di euro Detto del sostegno della Regione, il Genoa poteva contare su Synlab come sleeve sponsor, leader nella diagnostica medica che al tempo dei tamponi tutti abbiamo imparato a conoscere e LeasePlan sul retro.\n",
      "Genoa ORG\n",
      "1 milione di euro MONEY\n",
      "Detto del sostegno della Regione MISC\n",
      "Genoa ORG\n",
      "Synlab ORG\n",
      "sleeve sponsor SPONSOR\n",
      "LeasePlan ORG\n",
      "Con un conseguente aumento dei ricavi che però al momento non è ancora possibile quantificare.  18) Spezia - 1 milione di euro Dal 25 febbraio anche lo Spezia ha un nuovo main sponsor sul fronte della maglia, dove finora era presente soltanto la Regione Liguria.\n",
      "Spezia TEAM\n",
      "1 milione di euro MONEY\n",
      "Spezia TEAM\n",
      "main sponsor SPONSOR\n",
      "Regione Liguria LOC\n",
      "Valerio Pennicino/Getty Images) Serie A ricavi sponsor tecnici – Per la stagione 2021/22 sono stati stimati per i club di Serie A ricavi da sponsor – tra partner tecnici e commerciali – per circa 335 milioni di euro.\n",
      "Valerio Pennicino PER\n",
      "Getty Images PER\n",
      "Serie A ORG\n",
      "ricavi sponsor SPONSOR\n",
      "– Per ORG\n",
      "Serie A ORG\n",
      "– MISC\n",
      "335 milioni di euro MONEY\n"
     ]
    }
   ],
   "source": [
    "money_sents = []\n",
    "for sent in doc.sents:\n",
    "    if any(ent.label_ == 'SPONSOR' for ent in sent.ents) & any(ent.label_ == 'MONEY' for ent in sent.ents):\n",
    "        print(sent)\n",
    "        for ent in sent.ents:\n",
    "            print(ent.text, ent.label_)"
   ]
  },
  {
   "cell_type": "code",
   "execution_count": 21,
   "id": "f9fc74d1-e1da-4e25-acf2-cacdd44a54ab",
   "metadata": {},
   "outputs": [],
   "source": [
    "#nlp.to_disk('model')"
   ]
  },
  {
   "cell_type": "code",
   "execution_count": null,
   "id": "8979eff0-fffc-42d7-b5ea-0de66e36a4bb",
   "metadata": {},
   "outputs": [],
   "source": []
  }
 ],
 "metadata": {
  "kernelspec": {
   "display_name": "Python 3.9",
   "language": "python",
   "name": "python3"
  },
  "language_info": {
   "codemirror_mode": {
    "name": "ipython",
    "version": 3
   },
   "file_extension": ".py",
   "mimetype": "text/x-python",
   "name": "python",
   "nbconvert_exporter": "python",
   "pygments_lexer": "ipython3",
   "version": "3.9.16"
  }
 },
 "nbformat": 4,
 "nbformat_minor": 5
}
